{
 "cells": [
  {
   "cell_type": "markdown",
   "id": "7364e622",
   "metadata": {},
   "source": [
    "# Solution - 1"
   ]
  },
  {
   "cell_type": "code",
   "execution_count": 2,
   "id": "6a5f0bc1",
   "metadata": {},
   "outputs": [],
   "source": [
    "def check_score(symArray):\n",
    "    hash_table = {\"#\" : 5,\"O\" : 3, \"X\" : 1, \"!\" : -1, \"!!\" : -3, \"!!!\" : -5}\n",
    "    res = 0\n",
    "    for sub_lst in symArray:\n",
    "        summ = 0\n",
    "        for item in sub_lst:\n",
    "            if item in hash_table:\n",
    "                summ = summ + hash_table[item]\n",
    "        res = res+summ\n",
    "    if res>=0:\n",
    "        return res\n",
    "    else:\n",
    "        return 0\n",
    "            "
   ]
  },
  {
   "cell_type": "code",
   "execution_count": 5,
   "id": "fd0f2f1e",
   "metadata": {},
   "outputs": [
    {
     "name": "stdout",
     "output_type": "stream",
     "text": [
      "2\n",
      "#,!\n",
      "!!,X\n",
      "2\n"
     ]
    }
   ],
   "source": [
    "#driver code\n",
    "symArray = []\n",
    "n = int(input())\n",
    "for i in range(n):\n",
    "    symArray.append(input().split(\",\"))\n",
    "\n",
    "print(check_score(symArray))"
   ]
  },
  {
   "cell_type": "markdown",
   "id": "f3142056",
   "metadata": {},
   "source": [
    "# Solution - 2"
   ]
  },
  {
   "cell_type": "code",
   "execution_count": 10,
   "id": "207979c2",
   "metadata": {},
   "outputs": [],
   "source": [
    "def combinations(*arr):\n",
    "    res = 1\n",
    "    for i in arr:\n",
    "        res*=i\n",
    "    return res"
   ]
  },
  {
   "cell_type": "code",
   "execution_count": 12,
   "id": "374ddd97",
   "metadata": {},
   "outputs": [
    {
     "name": "stdout",
     "output_type": "stream",
     "text": [
      "6\n",
      "84\n"
     ]
    }
   ],
   "source": [
    "#driver code\n",
    "print(combinations(2,3))\n",
    "print(combinations(3,7,4))"
   ]
  },
  {
   "cell_type": "markdown",
   "id": "c05135cd",
   "metadata": {},
   "source": [
    "# Solution - 3"
   ]
  },
  {
   "cell_type": "code",
   "execution_count": 15,
   "id": "bdee0100",
   "metadata": {},
   "outputs": [],
   "source": [
    "def encode_morse(string):\n",
    "    res = \"\"\n",
    "    char_to_dots = {\n",
    "  'A': '.-', 'B': '-...', 'C': '-.-.', 'D': '-..', 'E': '.', 'F': '..-.',\n",
    "  'G': '--.', 'H': '....', 'I': '..', 'J': '.---', 'K': '-.-', 'L': '.-..',\n",
    "  'M': '--', 'N': '-.', 'O': '---', 'P': '.--.', 'Q': '--.-', 'R': '.-.',\n",
    "  'S': '...', 'T': '-', 'U': '..-', 'V': '...-', 'W': '.--', 'X': '-..-',\n",
    "  'Y': '-.--', 'Z': '--..', ' ': ' ', '0': '-----',\n",
    "  '1': '.----', '2': '..---', '3': '...--', '4': '....-', '5': '.....',\n",
    "  '6': '-....', '7': '--...', '8': '---..', '9': '----.',\n",
    "  '&': '.-...', \"'\": '.----.', '@': '.--.-.', ')': '-.--.-', '(': '-.--.',\n",
    "  ':': '---...', ',': '--..--', '=': '-...-', '!': '-.-.--', '.': '.-.-.-',\n",
    "  '-': '-....-', '+': '.-.-.', '\"': '.-..-.', '?': '..--..', '/': '-..-.'\n",
    "}\n",
    "\n",
    "    for i in string:\n",
    "        if i in char_to_dots:\n",
    "            res = res+char_to_dots[i]\n",
    "    return res"
   ]
  },
  {
   "cell_type": "code",
   "execution_count": 16,
   "id": "76f91678",
   "metadata": {},
   "outputs": [
    {
     "name": "stdout",
     "output_type": "stream",
     "text": [
      "HELP ME !\n",
      "......-...--. --. -.-.--\n"
     ]
    }
   ],
   "source": [
    "#driver code\n",
    "string = input()\n",
    "print(encode_morse(string))"
   ]
  },
  {
   "cell_type": "markdown",
   "id": "161e7b50",
   "metadata": {},
   "source": [
    "# Solution - 4"
   ]
  },
  {
   "cell_type": "code",
   "execution_count": 17,
   "id": "0805b046",
   "metadata": {},
   "outputs": [],
   "source": [
    "import math"
   ]
  },
  {
   "cell_type": "code",
   "execution_count": 18,
   "id": "fce9d391",
   "metadata": {},
   "outputs": [],
   "source": [
    "def prime(number):\n",
    "    if number <= 1:\n",
    "        return False\n",
    "    if number == 2:\n",
    "        return True\n",
    "    if number>2 and number%2 == 0:\n",
    "        return False\n",
    "    limit = math.floor(math.sqrt(number))\n",
    "    for i in range(3,limit+1,2):\n",
    "        if number % i == 0:\n",
    "            return False\n",
    "    return True"
   ]
  },
  {
   "cell_type": "code",
   "execution_count": 20,
   "id": "8a4944b5",
   "metadata": {},
   "outputs": [
    {
     "name": "stdout",
     "output_type": "stream",
     "text": [
      "5151512515524\n",
      "False\n"
     ]
    }
   ],
   "source": [
    "#driver code\n",
    "number = int(input())\n",
    "print(prime(number))"
   ]
  },
  {
   "cell_type": "markdown",
   "id": "0eb1621f",
   "metadata": {},
   "source": [
    "# Solution - 5"
   ]
  },
  {
   "cell_type": "code",
   "execution_count": 26,
   "id": "bef930a4",
   "metadata": {},
   "outputs": [],
   "source": [
    "def to_boolean_list(string):\n",
    "    string = string.lower()\n",
    "    res = []\n",
    "    for char in string:\n",
    "        check = (ord(char)- 96)%2 != 0\n",
    "        res.append(check)\n",
    "    return res\n",
    "            "
   ]
  },
  {
   "cell_type": "code",
   "execution_count": 29,
   "id": "7af0cbee",
   "metadata": {},
   "outputs": [
    {
     "name": "stdout",
     "output_type": "stream",
     "text": [
      "loves\n",
      "False True False True True\n"
     ]
    }
   ],
   "source": [
    "string= input()\n",
    "print(*to_boolean_list(string))"
   ]
  },
  {
   "cell_type": "code",
   "execution_count": null,
   "id": "626f07bf",
   "metadata": {},
   "outputs": [],
   "source": []
  }
 ],
 "metadata": {
  "kernelspec": {
   "display_name": "Python 3 (ipykernel)",
   "language": "python",
   "name": "python3"
  },
  "language_info": {
   "codemirror_mode": {
    "name": "ipython",
    "version": 3
   },
   "file_extension": ".py",
   "mimetype": "text/x-python",
   "name": "python",
   "nbconvert_exporter": "python",
   "pygments_lexer": "ipython3",
   "version": "3.8.10"
  }
 },
 "nbformat": 4,
 "nbformat_minor": 5
}
