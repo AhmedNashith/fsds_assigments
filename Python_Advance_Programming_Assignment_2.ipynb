{
 "cells": [
  {
   "cell_type": "markdown",
   "id": "ccb2db0c",
   "metadata": {},
   "source": [
    "# Solution - 1"
   ]
  },
  {
   "cell_type": "code",
   "execution_count": 13,
   "id": "58c894ea",
   "metadata": {},
   "outputs": [],
   "source": [
    "def pentagonal(n):\n",
    "    res = 1 + (((n-1)/2)*n)*5\n",
    "    return int(res)"
   ]
  },
  {
   "cell_type": "code",
   "execution_count": 16,
   "id": "e6c3b25d",
   "metadata": {},
   "outputs": [
    {
     "name": "stdout",
     "output_type": "stream",
     "text": [
      "8\n",
      "141\n"
     ]
    }
   ],
   "source": [
    "#driver code \n",
    "n = int(input())\n",
    "print(pentagonal(n))"
   ]
  },
  {
   "cell_type": "markdown",
   "id": "f107d19e",
   "metadata": {},
   "source": [
    "# Solution - 2"
   ]
  },
  {
   "cell_type": "code",
   "execution_count": 19,
   "id": "1fd29e2a",
   "metadata": {},
   "outputs": [],
   "source": [
    "def encrypt(string):\n",
    "    hash_table = {\"a\":0,\"e\":1,\"i\":2,\"o\":2,\"u\":3}\n",
    "    temp = string[::-1]\n",
    "    res = \"\"\n",
    "    for index,key in enumerate(temp):\n",
    "        if key in hash_table:\n",
    "            res = res + str(hash_table[key])\n",
    "        else:\n",
    "            res = res + temp[index]\n",
    "    res = res+\"aca\"\n",
    "    return res\n",
    "    "
   ]
  },
  {
   "cell_type": "code",
   "execution_count": 20,
   "id": "ca817351",
   "metadata": {},
   "outputs": [
    {
     "name": "stdout",
     "output_type": "stream",
     "text": [
      "apple\n",
      "1lpp0aca\n"
     ]
    }
   ],
   "source": [
    "#driver code \n",
    "string = input()\n",
    "print(encrypt(string))"
   ]
  },
  {
   "cell_type": "markdown",
   "id": "abb49f09",
   "metadata": {},
   "source": [
    "# Solution - 3"
   ]
  },
  {
   "cell_type": "code",
   "execution_count": 26,
   "id": "8c292f27",
   "metadata": {},
   "outputs": [],
   "source": [
    "import datetime\n",
    "import calendar\n",
    "def has_friday_13(month, year):\n",
    "    date = \"13 \"+str(month)+\" \"+str(year)\n",
    "    res_day_num = datetime.datetime.strptime(date, '%d %m %Y').weekday()\n",
    "    return calendar.day_name[res_day_num] == \"Friday\"\n"
   ]
  },
  {
   "cell_type": "code",
   "execution_count": 27,
   "id": "0eca3f3f",
   "metadata": {},
   "outputs": [
    {
     "name": "stdout",
     "output_type": "stream",
     "text": [
      "3\n",
      "2020\n",
      "True\n"
     ]
    }
   ],
   "source": [
    "#driver code\n",
    "month = int(input())\n",
    "year = int(input())\n",
    "print(has_friday_13(month,year))"
   ]
  },
  {
   "cell_type": "markdown",
   "id": "66532c04",
   "metadata": {},
   "source": [
    "# Solution - 4"
   ]
  },
  {
   "cell_type": "code",
   "execution_count": 66,
   "id": "11b71524",
   "metadata": {},
   "outputs": [
    {
     "data": {
      "text/plain": [
       "2"
      ]
     },
     "execution_count": 66,
     "metadata": {},
     "output_type": "execute_result"
    }
   ],
   "source": [
    "\n",
    "import re\n",
    "lst = [\"bad cookie\", \"good cookie\", \"bad cookie\", \"good cookie\", \"good cookie\"]\n",
    "pattern = \"(?<=bad)\"\n",
    "\n",
    "len(re.findall(pattern, \", \".join(lst)))\n"
   ]
  },
  {
   "cell_type": "markdown",
   "id": "3d3c22b3",
   "metadata": {},
   "source": [
    "# Solution - 5"
   ]
  },
  {
   "cell_type": "code",
   "execution_count": 67,
   "id": "31197651",
   "metadata": {},
   "outputs": [],
   "source": [
    "def pluralize(string_list):\n",
    "    hash_table = {}\n",
    "    for string in string_list:\n",
    "        if string in hash_table:\n",
    "            hash_table[string] = hash_table[string] + 1\n",
    "        else:\n",
    "            hash_table[string] = 1\n",
    "    singular = []\n",
    "    plural = []\n",
    "    for key in hash_table:\n",
    "        if hash_table[key] > 1:\n",
    "            if key not in plural:\n",
    "                plural.append(key+\"s\")\n",
    "        else:\n",
    "            singular.append(key)\n",
    "    singular.extend(plural)\n",
    "    return set(singular)"
   ]
  },
  {
   "cell_type": "code",
   "execution_count": 70,
   "id": "5c033b4e",
   "metadata": {},
   "outputs": [
    {
     "name": "stdout",
     "output_type": "stream",
     "text": [
      "chair chair pencil pencil arm\n",
      "{'chairs', 'pencils', 'arm'}\n"
     ]
    }
   ],
   "source": [
    "string_list = [x for x in input().split()]\n",
    "print(pluralize(string_list))"
   ]
  },
  {
   "cell_type": "code",
   "execution_count": null,
   "id": "a34af574",
   "metadata": {},
   "outputs": [],
   "source": []
  }
 ],
 "metadata": {
  "kernelspec": {
   "display_name": "Python 3 (ipykernel)",
   "language": "python",
   "name": "python3"
  },
  "language_info": {
   "codemirror_mode": {
    "name": "ipython",
    "version": 3
   },
   "file_extension": ".py",
   "mimetype": "text/x-python",
   "name": "python",
   "nbconvert_exporter": "python",
   "pygments_lexer": "ipython3",
   "version": "3.8.10"
  }
 },
 "nbformat": 4,
 "nbformat_minor": 5
}
